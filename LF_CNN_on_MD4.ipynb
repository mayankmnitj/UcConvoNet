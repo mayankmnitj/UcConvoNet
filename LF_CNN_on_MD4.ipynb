{
  "nbformat": 4,
  "nbformat_minor": 0,
  "metadata": {
    "colab": {
      "provenance": [],
      "gpuType": "T4",
      "include_colab_link": true
    },
    "kernelspec": {
      "name": "python3",
      "display_name": "Python 3"
    },
    "accelerator": "GPU",
    "gpuClass": "standard"
  },
  "cells": [
    {
      "cell_type": "markdown",
      "metadata": {
        "id": "view-in-github",
        "colab_type": "text"
      },
      "source": [
        "<a href=\"https://colab.research.google.com/github/mayankmnitj/UcConvoNet/blob/main/LF_CNN_on_MD4.ipynb\" target=\"_parent\"><img src=\"https://colab.research.google.com/assets/colab-badge.svg\" alt=\"Open In Colab\"/></a>"
      ]
    },
    {
      "cell_type": "code",
      "metadata": {
        "id": "qCQQPjnIH8aX",
        "colab": {
          "base_uri": "https://localhost:8080/"
        },
        "outputId": "585af70b-33bd-4f59-83bd-3eb30b261404"
      },
      "source": [
        "from google.colab import drive\n",
        "drive.mount('/content/drive')"
      ],
      "execution_count": null,
      "outputs": [
        {
          "output_type": "stream",
          "name": "stdout",
          "text": [
            "Mounted at /content/drive\n"
          ]
        }
      ]
    },
    {
      "cell_type": "code",
      "metadata": {
        "id": "lm_MbGbpIM5K"
      },
      "source": [
        "# encoding: utf-8\n",
        "import numpy as np\n",
        "import re\n",
        "import pandas as pd\n",
        "import nltk\n",
        "from sklearn.datasets import load_files\n",
        "#nltk.download('stopwords')\n",
        "import pickle\n",
        "#from nltk.corpus import stopwords\n",
        "\n",
        "from nltk.tokenize import word_tokenize, sent_tokenize\n",
        "import pandas as pd\n",
        "data11 = pd.read_excel(r'/content/drive/MyDrive/Ph.D/BuzzFeed.xlsx', header=0)\n",
        "#data12 = pd.read_excel(r'/content/drive/MyDrive/PHD/PolitiFact.xlsx', header=0)\n",
        "data13 = pd.read_csv(r'/content/drive/MyDrive/Ph.D/Mcintire_DataSet.csv', header=0)\n",
        "data14 = pd.read_csv(r'/content/drive/MyDrive/Ph.D/Reuter_dataset.csv', header=0)\n",
        "data15 = pd.read_csv(r'/content/drive/MyDrive/Ph.D/Kaggle.csv', header=0)\n"
      ],
      "execution_count": null,
      "outputs": []
    },
    {
      "cell_type": "code",
      "source": [
        "data11=data11[['text','label']]\n",
        "data13=data13[['text','label']]\n",
        "data14=data14[['text','label']]\n",
        "data15=data15[['text','label']]\n",
        "data15=data15[['text','label']].dropna()"
      ],
      "metadata": {
        "id": "UR6Dbw9iRLOz"
      },
      "execution_count": null,
      "outputs": []
    },
    {
      "cell_type": "code",
      "source": [
        "frames1 = [data11, data13, data14, data15]\n",
        "data10 = pd.concat(frames1, axis=0)\n",
        "print(data10.shape)"
      ],
      "metadata": {
        "colab": {
          "base_uri": "https://localhost:8080/"
        },
        "id": "l1eAa0S0ReWB",
        "outputId": "d22b76e5-b6c7-4471-c0a2-fd5dd3713823"
      },
      "execution_count": null,
      "outputs": [
        {
          "output_type": "stream",
          "name": "stdout",
          "text": [
            "(72176, 2)\n"
          ]
        }
      ]
    },
    {
      "cell_type": "code",
      "source": [
        "data1 = data10['text'].values\n",
        "y= data10['label'].values\n",
        "print(data1)\n",
        "print(y)"
      ],
      "metadata": {
        "colab": {
          "base_uri": "https://localhost:8080/"
        },
        "id": "xPeG25FjRKdj",
        "outputId": "7945e751-1421-48cb-da3a-17551461e997"
      },
      "execution_count": null,
      "outputs": [
        {
          "output_type": "stream",
          "name": "stdout",
          "text": [
            "['I woke up this morning to find a variation of this headline splashed all over my news feed:\\n\\nBill Clinton: ‘Natural’ For Foundation Donors to Seek Favors\\n\\nHere’s Google:\\n\\nNaturally, my reaction was “oh, s**t, what did Bill Clinton do to damage his wife’s campaign now?”\\n\\nOf course, the headline sounds really, really awful. It plays right into the idea that the Clinton Foundation is all about pay to play, just like Donald Trump has been saying all along. Unfortunately, it takes reading beyond the headlines, which is something most people don’t do, to find out the real story – and the real story is that there is no pay to play.\\n\\n“It was natural for people who’ve been our political allies and personal friends to call and ask for things. And I trusted the State Department wouldn’t do anything they shouldn’t do,” Clinton told NPR in an interview that aired Monday morning. Source: CNN\\n\\nIn other words, people can ask for favors, but that certainly doesn’t mean they’ll get them. Leaked emails have shown that some Clinton Foundation donors have gotten meetings with Clinton and that others were turned down. There is zero evidence of pay to play. In other words, people might have asked for favors, but there’s no evidence they got them.\\n\\nNow, let’s talk about the foundation the media doesn’t like to mention, the Trump Foundation. Trump hasn’t given to his own foundation since 2008. He does collect money from others, though, and gives it in his name. He also takes from the charity and allegedly buys things like oil paintings and football helmets, all for himself, but out of charity money.\\n\\nNew York Attorney General Eric Schneiderman said in a September 13 CNN interview that his office is investigating Trump’s charitable foundation over concerns that it “engaged in some impropriety” as related to New York charity laws. The investigation launched amid reports from The Washington Post that Trump spent money from his charity on items meant to benefit himself, such as a $20,000 oil painting of himself and a $12,000 autographed football helmet, and also recycled others’ contributions “to make them appear to have come from him” although he “hasn’t given to the foundation since 2008.” Source: Media Matters\\n\\nMedia Matters goes on to talk about the double standard and about how clearly the mainstream media is trying to promote Trump at the cost of Clinton’s candidacy:\\n\\nJournalists have been criticized for the “double standard” in the ways they cover Trump and Democratic presidential nominee Hillary Clinton. Earlier this month, cable news programs devoted 13 times more coverage to Clinton’s pneumonia diagnosis as The Washington Post’s reporting about the Trump Foundation. This week, both the Trump Foundation and Trump Organization stories were given short shrift by the broadcast news programs in favor of coverage of Donald Trump’s Dr. Oz stunt.\\n\\nAll of this biased coverage is hurting Clinton and helping Trump. Trump has seen major gains over the last few weeks, largely because the media covers every minor Clinton “scandal” (if you call getting sick a “scandal”) while ignoring every scandal in Trump’s closet, and trust me, there are a lot.\\n\\nFeatured image via Ethan Miller/Getty Images.'\n",
            " 'Thanks in part to the declassification of Defense Intelligence documents, connecting those missing dots seems to have finally reveled what most Middle East observers have suspected all along, that the rise of the terrorist group ISIS and the likelihood of establishing a terror state (a caliphate), had been predicated by both the CIA and DIA, as far back as 2012.\\n\\nAnd purposely created by the Obama Administration in part to isolate the Syrian government of President Bashar al-Assad. The documents also predicted that the support given by the West, Turkey and the Persian Gulf Arab states to the Takfiri militants would eventually lead to the establishment of a Salafist Principality in Eastern Syria.\\n\\nAccording to investigative reporter Nafeez Ahmed, the \"leaked document reveals that in coordination with the Gulf states and Turkey, the West intentionally sponsored violent Islamist groups to destabilize Assad, despite anticipating that doing so could lead to the emergence of an ‘Islamic State’ in Iraq and Syria.”\\n\\nObviously Obama’s dismissal of ISIS being nothing more than a “JV” team and his apparent miscalculations in not keeping a residual force in place in Iraq, seems to be (as the documents indicate), considerably more sinister than first assumed, in that not leaving a contingency force behind was viewed by most Middle Eastern experts to have been a simple yet costly a tactical error.\\n\\nHowever the documents are also shedding light on details referencing weapons operations inside Libya before the 2012 terror attack in Benghazi.\\n\\nAnd the report leaves no doubt that U.S. intelligence agencies were fully aware that weapons were being shipped from Benghazi to Syrian ports.\\n\\nHowever what isn’t in dispute is that American servicemen and woman and those in Benghazi have been willfully sacrificed by a clandestine Middle Eastern policy that has seen the rise of the most brutal terrorist group within our lifetime, by an administration that seems to be more concerned in concealing the facts rather than protecting our National Security.\\n\\nHere is a link to the Judicial Watch press release detailing the released documents.\\n\\nHere are the released documents themselves.'\n",
            " 'The Democrats are using an intimidation tactic which they are prone to use incessantly. If you question the veracity of a black president’s birth certificate you are racist. That is the outright claim of Lynn Sweet Washington Bureau Chief for the Chicago Sun-Times made on Fox News. Consider the slanted claim that if a president is black and his birth certificate is called into question the conclusion is you must be a racist. What is wrong with this obvious non-sequitur?\\n\\nFirst of all, there is evidence the birth certificate presented was altered. This is discounted by the claims that whoever presented this must be racist. Secondly, the social security number presented of Barack Obama was issued in Connecticut where there is no record of him domiciling there. Third, the hospital that issued his birth certificate in Hawaii didn’t exist when it was “issued.” Fourth, an examination of the birth certificate produced several errors that could only be attributed to falsification. Has an unquestioned birth certificate ever been presented? No, only a cry of racism when the request is made. They can’t produce an original document and they then rely on the smear of “birther” and racism to substantiate that which they can produce no physical evidence of. Sadly, Donald Trump has bowed to their…\\n\\nThe views expressed in this opinion article are solely those of their author and are not necessarily either shared or endorsed by EagleRising.com'\n",
            " ...\n",
            " 'The Macy’s of today grew from the union of several great names in American retailing, including its namesake chain, Bloomingdale’s and Marshall Field’s. But the ambitious owner of Saks Fifth Avenue has broached the idea of taking the union even further, combining with Macy’s to create a department store juggernaut at a time when the industry is reeling. Hudson’s Bay Company, the Canadian owner of Saks, has approached Macy’s about a potential takeover, people briefed on the matter who were not authorized to speak publicly said on Friday. Talks between the two companies are at an early stage and may still fall apart or lead to a partnership of some kind rather than a sale. While it is unclear whether a deal will happen, a combination could lift the fortunes of Macy’s, the country’s biggest department store, which has been struggling. Investors certainly appeared to see it that way. Shares of Macy’s rose as much as 12 percent on Friday, its biggest intraday gain since Aug. 11, according to data from Bloomberg. Once a retail titan, Macy’s has struggled to remain relevant as   and discount retailers have decimated the traditional    business. Last month, Macy’s announced plans to cut more than 10, 000 jobs and close some of its 880 stores. Terry Lundgren, its chief executive and the architect of Macy’s last big merger, is expected to step down by the end of March. He will be succeeded by the company’s president, Jeffrey Gennette. Since the recession, shoppers have grown accustomed to hunt for bargains and to not pay full price. Discount stores and outlet malls have flourished. Traditional stores have been compelled to respond by trimming prices, which cuts into their margins. Departments stores have been hit especially hard, particularly as shoppers migrate away from malls. What has emerged, analysts say, is a virtual race to the bottom. That has been particularly difficult for Macy’s, born of a series of mergers over the past two decades that made it a juggernaut in the industry. A stalwart of the middle tier of retail, the company has neither the advantages of   retailers like HM nor the   stores. In addition, Macy’s faces increasingly fierce competition online from sites like Amazon and elsewhere. Macy’s troubles have drawn the attention of a prominent activist hedge fund, Starboard Value, which has urged the company to generate cash by selling the real estate beneath its stores. Starboard, which held just under 1 percent of Macy’s shares as of Sept. 30, had previously estimated the value of that land at about $21 billion. On Friday, analysts at Citigroup estimated that Macy’s   holdings could be worth at least $18 billion. Macy’s market value, by comparison, was just under $11 billion as of Friday morning. Macy’s has taken some steps to sell or redevelop stores, and last year, it added an expert on real estate transactions to its board. But the company has largely resisted more ambitious efforts to divest its real estate, including     deals, in which a company sells the underlying land beneath its stores and then rents it back. The company’s suitor, Hudson’s Bay Company, is far smaller  —   its market value was about 1. 9 billion Canadian dollars, or $1. 5 billion  —   but is known for its bold steps. Hudson’s Bay Company has assembled a growing empire that includes the Hudson’s Bay department store chain, Lord  Taylor and its crown jewel, Saks. And the governor and executive chairman of the Hudson’s Bay Company, Richard Baker, has shown little fear of using debt: In November 2014, the company borrowed nearly $4 billion against the Saks flagship in Midtown Manhattan. He has spoken often of retailers’ need to highlight the value of their real estate. Financing a bid for Macy’s may be trickier, however, because the it carries about $6. 5 billion in   debt. That may mean that the Hudson’s Bay Company will have to bring in a partner or borrow against more of its real estate holdings. A spokesman for the Hudson’s Bay Company declined to comment on the talks, which were reported earlier by The Wall Street Journal. “We do not comment on rumors and speculation,” a representative for Macy’s said. A representative for Starboard Value did not respond to a request for comment. Some analysts said that they saw the merit of a potential combination, particularly given Macy’s operational woes and Mr. Baker’s expertise in wringing money out of real estate. “There is a clear logic, despite disparity in   cap” between Macy’s and Hudson’s Bay Company, Craig Johnson, the president of Customer Growth Partners, a research firm, said in a note. Referring to Macy’s stock ticker symbol, he added, “The retail market has been changing faster than M has been able to keep up with, whether the flight from the mall or the migration online. ”'\n",
            " 'NATO, Russia To Hold Parallel Exercises In Balkans 11/02/2016 \\nPRESS TV \\nRussia’s military and NATO forces are holding parallel military exercises in two neighboring Balkan countries. \\nRussian troops will participate in war games in Serbia while NATO is conducting military drills in Montenegro, media reported on Monday. \\nRussian forces’ 13-day military exercise in Serbia is named “The Slavic Brotherhood 2016” and begins on Wednesday. \\nIt will include 150 Russian paratroopers, 50 air force staffers, three transport planes and an unspecified number of troops from Serbia and Belarus, Russia’s Defense Ministry said. \\nThe five-day NATO drill in Montenegro started on Monday and involves responding to floods and chemical attacks. It will involve 680 unarmed personnel from seven NATO countries and 10 partner states. \\nIn the past both Serbia and Montenegro were constitutional republics of the Socialist Federal Republic of Yugoslavia. \\nBoth countries are socialist republics and traditional Russian Christian Orthodox allies. In 2003 this state union was re-formed into Serbia and Montenegro, and in 2006 the two became independent states. \\nSince their split, the two Balkan neighbors seem to have headed in different directions strategically. \\nMontenegro has taken a pro-Western stance which has been awarded by NATO with an offer to join the Northern Atlantic Alliance. \\nThe NATO invitation to Montenegro has met strong opposition from Russia. \\nMeanwhile, Montenegrin officials have accused Russia of staging an alleged coup in October to topple its pro-Western government because of the NATO accession bid. \\nSerbia, a NATO partner, has held exercises with the Western alliance, but not such a large one or with foreign troops and equipment participating on its soil.'\n",
            " \"  David Swanson is an author, activist, journalist, and radio host. He is a 2015 Nobel Peace Prize Nominee. He is director of WorldBeyondWar.com and campaign coordinator for RootsAction.org . He hosts Talk Nation Radio . Talk Nation Radio is on VT Radio and is syndicated by Pacifica Network. The show also airs on WTJU, Charlottesville, VA; WCSX-Detroit, MI; KGHI, Westport, WA; WHUS, Storrs, CT; WPRR, Grand Rapids, MI; KRFP-LP, Moscow, ID; KZGM, Cabool, MO; KMUD, Garberville, CA; WAZU, Peoria, IL; WXRD, Crown Point, IN; Geneva Radio, Geneva, NY; KKRN, Round Mountain, CA; KSKQ-LP, Ashland, OR; WUOW-LP, Oneonta, NY; No Lies Radio, Pinole, CA; WYAP-LP, Clay, WV; The Detour, Johnson City, TN; WZRD, Chicago, IL; WEFT, Champaign, IL; WXPI, Pittsburgh, PA; WDRT, Viroqua, WI; Veracity Now, online; Liberty and Justice Radio, Shirley, MA; Ithaca Community Radio, Ithaca, NY; WMCB, Greenfield, MA; PRX.org; KAOS 89.3fm, Olympia, WA; WUSB 90.1 FM, Stony Brook, NY; WOOL-FM, Bellow Falls, Vermont; WSLR-LP 96.5 in Sarasota, Florida. He also blogs at DavidSwanson.org and WarIsACrime.org And is a prolific author. His latest books are; War Is A Lie , Daybreak: Undoing the Imperial Presidency and Forming a More Perfect Union , and When the World Outlawed War Swanson holds a master's degree in philosophy from the University of Virginia. He has worked as a newspaper reporter and as a communications director, with jobs including press secretary for Dennis Kucinich's 2004 presidential campaign, media coordinator for the International Labor Communications Association, and three years as communications coordinator for ACORN, the Association of Community Organizations for Reform Now. Read his full and complete biography at DavidSwanson.org and also visit book site at War Is Crime . What Keeps the F-35 Alive By David Swanson on October 31, 2016 Petition to Stop F-35 Going Global \\nby David Swanson \\nImagine if a local business in your town invented a brand new tool that was intended to have an almost magical effect thousands of miles away. However, where the tool was kept and used locally became an area unsafe for children. Children who got near this tool tended to have increased blood pressure and increased stress hormones, lower reading skills, poorer memories, impaired auditory and speech perception, and impaired academic performance. \\nMost of us would find this situation at least a little concerning, unless the new invention was designed to murder lots of people. Then it’d be just fine. \\nNow, imagine if this same new tool ruined neighborhoods because people couldn’t safely live near it. Imagine if the government had to compensate people but kick them out of living near the location of this tool. Again, I think, we might find that troubling if mass murder were not the mission. \\nImagine also that this tool fairly frequently explodes, emitting highly toxic chemicals, particles, and fibers unsafe to breathe into the air for miles around. Normally, that’d be a problem. But if this tool is needed for killing lots of people, we’ll work with its flaws, won’t we? \\nNow, what if this new gadget was expected to cost at least $1,400,000,000,000 over 50 years? And what if that money had to be taken away from numerous other expenses more beneficial for the economy and the world? What if the $1.4 trillion was drained out of the economy causing a loss of jobs and a radical diminuition of resources for education, healthcare, housing, environmental protection, or humanitarian aid? Wouldn’t that be a worry in some cases, I mean in those cases where the ability to kill tons of human beings wasn’t at stake? \\nWhat if this product, even when working perfectly, was a leading destroyer of the earth’s natural environment? \\nWhat if this high-tech toy wasn’t even designed to do what was expected of it and wasn’t even able to do what it was designed for? \\nAmazingly, even those shortcomings do not matter as long as the intention is massive murder and destruction. Then, all is forgiven. \\nThe tool I’m describing is called the F-35. At RootsAction.org you can find a new petition launched by locally-minded people acting globally in places where the F-35 is intended to be based. Also at that link you’ll find explanations of how the tool I’ve been decribing is the F-35. \\nThe petition is directed to the United States Congress and the governments of Australia, Italy, the Netherlands, Norway, Turkey, the United Kingdom, Israel, Japan and South Korea from the world and from the people of Burlington, Vermont, and Fairbanks, Alaska, where the F-35 is to be based. This effort is being initiated by Vermont Stop the F35 Coalition, Save Our Skies Vermont, Western Maine Matters, Alaska Peace Center, University of Alaska Fairbanks Peace Club, North Star Chapter 146 Veterans For Peace, World Beyond War, RootsAction.org, Code Pink, and Ben Cohen. \\nThe petition reads: \\nThe F-35 is a weapon of offensive war, serving no defensive purpose. It is planned to cost the U.S. $1.4 trillion over 50 years. Because starvation on earth could be ended for $30 billion and the lack of clean drinking water for $11 billion per year, it is first and foremost through the wasting of resources that this airplane will kill. Military spending, contrary to popular misconception, also hurts the U.S. economy ( see here ) and other economies. The F-35 causes negative health impacts and cognitive impairment in children living near its bases. It renders housing near airports unsuitable for residential use. It has a high crash rate and horrible consequences to those living in the area of its crashes. Its emissions are a major environmental polluter. \\nWars are endangering the United States and other participating nations rather than protecting them. Nonviolent tools of law, diplomacy, aid, crisis prevention, and verifiable nuclear disarmament should be substituted for continuing counterproductive wars. Therefore, we, the undersigned, call for the immediate cancellation of the F-35 program as a whole, and the immediate cancellation of plans to base any such dangerous and noisy jets near populated areas. We oppose replacing the F-35 with any other weapon or basing the F-35 in any other locations. We further demand redirection of the money for the F-35 back into taxpayers’ pockets, and into environmental and human needs in the U.S., other F-35 customer nations, and around the world, including to fight climate change, pay off student debt, rebuild crumbling infrastructure, and improve education, healthcare, and housing. \\nAdd your name . \\nDavid Swanson is an author, activist, journalist, and radio host. He is director of WorldBeyondWar.org and campaign coordinator for RootsAction.org . Swanson’s books include War Is A Lie . He blogs at DavidSwanson.org and WarIsACrime.org . He hosts Talk Nation Radio .He is a 2015 and 2016 Nobel Peace Prize Nominee. \\nFollow him on Twitter: @davidcnswanson and FaceBook . \\nHelp support DavidSwanson.org, WarIsACrime.org, and TalkNationRadio.org by clicking here: http://davidswanson.org/donate .\"]\n",
            "[1 1 1 ... 0 1 1]\n"
          ]
        }
      ]
    },
    {
      "cell_type": "code",
      "source": [
        "data1.shape"
      ],
      "metadata": {
        "colab": {
          "base_uri": "https://localhost:8080/"
        },
        "id": "IVS7BuN2rA_D",
        "outputId": "daa083e3-39a3-453a-cf3b-e9075390e5cb"
      },
      "execution_count": null,
      "outputs": [
        {
          "output_type": "execute_result",
          "data": {
            "text/plain": [
              "(72176,)"
            ]
          },
          "metadata": {},
          "execution_count": 17
        }
      ]
    },
    {
      "cell_type": "code",
      "metadata": {
        "id": "qC7_NVp9IS_q"
      },
      "source": [
        "from gensim.models import word2vec\n",
        "# tokenize sentences in corpus\n",
        "wpt = nltk.WordPunctTokenizer()\n",
        "tokenized_corpus = [wpt.tokenize(document) for document in data1]"
      ],
      "execution_count": null,
      "outputs": []
    },
    {
      "cell_type": "code",
      "metadata": {
        "id": "LSVwoWOZIXp6",
        "colab": {
          "base_uri": "https://localhost:8080/"
        },
        "outputId": "4a00c5af-9401-410a-fbe2-762f5393a6f8"
      },
      "source": [
        "len(tokenized_corpus)"
      ],
      "execution_count": null,
      "outputs": [
        {
          "output_type": "execute_result",
          "data": {
            "text/plain": [
              "72176"
            ]
          },
          "metadata": {},
          "execution_count": 19
        }
      ]
    },
    {
      "cell_type": "code",
      "metadata": {
        "id": "eAAK_nwgIaNF",
        "colab": {
          "base_uri": "https://localhost:8080/",
          "height": 53
        },
        "outputId": "a311c931-4ef5-484b-ddd7-fc05a163da44"
      },
      "source": [
        "# Set values for various parameters\n",
        "feature_size = 100   # Word vector dimensionality\n",
        "window_context = 5         # Context window size\n",
        "min_word_count = 1   # Minimum word count\n",
        "sample = 1e-3   # Downsample setting for frequent words\n",
        "\n",
        "#create CBOW model\n",
        "w2v_model = word2vec.Word2Vec(tokenized_corpus, vector_size=feature_size,\n",
        "                          window=window_context, min_count=min_word_count,\n",
        "                          sample=sample, epochs=5)\n",
        "# create Skip gram model only sg=1 add\n",
        "'''w2v_model = word2vec.Word2Vec(tokenized_corpus, size=feature_size,\n",
        "                          window=window_context, min_count=min_word_count,\n",
        "                          sample=sample, iter=5)'''"
      ],
      "execution_count": null,
      "outputs": [
        {
          "output_type": "execute_result",
          "data": {
            "text/plain": [
              "'w2v_model = word2vec.Word2Vec(tokenized_corpus, size=feature_size,\\n                          window=window_context, min_count=min_word_count,\\n                          sample=sample, iter=5)'"
            ],
            "application/vnd.google.colaboratory.intrinsic+json": {
              "type": "string"
            }
          },
          "metadata": {},
          "execution_count": 20
        }
      ]
    },
    {
      "cell_type": "code",
      "metadata": {
        "id": "r57S4jY6IdlB",
        "colab": {
          "base_uri": "https://localhost:8080/"
        },
        "outputId": "d0ad0ee6-efe1-4c90-c4d5-29d5733e27f7"
      },
      "source": [
        "len(w2v_model.wv.index_to_key)"
      ],
      "execution_count": null,
      "outputs": [
        {
          "output_type": "execute_result",
          "data": {
            "text/plain": [
              "293124"
            ]
          },
          "metadata": {},
          "execution_count": 21
        }
      ]
    },
    {
      "cell_type": "code",
      "metadata": {
        "id": "mY-9l_1_If4K",
        "colab": {
          "base_uri": "https://localhost:8080/"
        },
        "outputId": "4da3a585-09ba-4821-f316-817021302d9d"
      },
      "source": [
        "w2v_model.syn1neg"
      ],
      "execution_count": null,
      "outputs": [
        {
          "output_type": "execute_result",
          "data": {
            "text/plain": [
              "array([[-0.08954263,  0.31170255,  0.3332162 , ..., -0.02379763,\n",
              "         0.38030428, -0.66401017],\n",
              "       [ 0.0576994 ,  0.00374049,  0.19198412, ...,  0.0975897 ,\n",
              "         0.16842942, -0.22099216],\n",
              "       [ 0.13462551,  0.13762575,  0.31190982, ..., -0.01254657,\n",
              "         0.35051718, -0.32615164],\n",
              "       ...,\n",
              "       [ 0.03176749,  0.0611322 ,  0.03572684, ...,  0.03872047,\n",
              "         0.11873107, -0.16746354],\n",
              "       [ 0.05160113,  0.09418864,  0.04397171, ...,  0.02710115,\n",
              "         0.07313387, -0.13415907],\n",
              "       [ 0.05031064,  0.00147708,  0.08329948, ...,  0.11222675,\n",
              "         0.10126322, -0.15226023]], dtype=float32)"
            ]
          },
          "metadata": {},
          "execution_count": 22
        }
      ]
    },
    {
      "cell_type": "code",
      "metadata": {
        "id": "Dln2qYfpIiKL"
      },
      "source": [
        "# visualize embeddings\n",
        "import matplotlib.pyplot as plt\n",
        "from sklearn.manifold import TSNE\n",
        "import numpy as np\n",
        "words = w2v_model.wv.index_to_key\n",
        "wvs = w2v_model.wv[words]\n",
        "'''\n",
        "tsne = TSNE(n_components=2, random_state=0, n_iter=5000, perplexity=2)\n",
        "np.set_printoptions(suppress=True)\n",
        "T = tsne.fit_transform(wvs)\n",
        "labels = words\n",
        "\n",
        "plt.figure(figsize=(12, 6))\n",
        "plt.scatter(T[:, 0], T[:, 1], c='orange', edgecolors='r')\n",
        "for label, x, y in zip(labels, T[:, 0], T[:, 1]):\n",
        "    plt.annotate(label, xy=(x+1, y+1), xytext=(0, 0), textcoords='offset points')'''\n",
        "\n",
        "\n",
        "def average_word_vectors(words, model, vocabulary, num_features):\n",
        "    feature_vector = np.zeros((num_features,), dtype=\"float64\")\n",
        "    nwords = 0\n",
        "\n",
        "    for word in words:\n",
        "        if word in vocabulary:\n",
        "            nwords = nwords + 1\n",
        "            #feature_vector += model[word].reshape((1, vector_size))\n",
        "            feature_vector = np.add(feature_vector, model.wv.get_vector(word))\n",
        "\n",
        "    if nwords:\n",
        "        feature_vector = np.divide(feature_vector, nwords)\n",
        "\n",
        "    return feature_vector\n",
        "\n",
        "\n",
        "def averaged_word_vectorizer(corpus, model, num_features):\n",
        "    vocabulary = set(model.wv.index_to_key)\n",
        "    features = [average_word_vectors(tokenized_sentence, model, vocabulary, num_features)\n",
        "                for tokenized_sentence in corpus]\n",
        "    return np.array(features)\n",
        "\n",
        "\n",
        "# get document level embeddings\n",
        "w2v_feature_array = averaged_word_vectorizer(corpus=tokenized_corpus, model=w2v_model,\n",
        "                                             num_features=feature_size)\n",
        "doc_em= pd.DataFrame(w2v_feature_array)"
      ],
      "execution_count": null,
      "outputs": []
    },
    {
      "cell_type": "code",
      "metadata": {
        "id": "erD136JeIqmH"
      },
      "source": [
        "import matplotlib.pyplot as plt\n",
        "import pandas as pd\n",
        "import numpy as np\n",
        "data11 = pd.read_excel(r'/content/drive/MyDrive/Ph.D/arrays_Buzz_new.xlsx', header=0)\n",
        "#data12 = pd.read_excel(r'/content/drive/MyDrive/Ph.D/arrays_politi_new.xlsx', header=0)\n",
        "data13 = pd.read_excel(r'/content/drive/MyDrive/Ph.D/arrays_Mcintire.xlsx', header=0)\n",
        "data14 = pd.read_excel(r'/content/drive/MyDrive/Ph.D/arrays_Reuter.xlsx', header=0)\n",
        "data15 = pd.read_excel(r'/content/drive/MyDrive/Ph.D/arrays_kaggle.xlsx', header=0)"
      ],
      "execution_count": null,
      "outputs": []
    },
    {
      "cell_type": "code",
      "source": [
        "frames1 = [data11, data13, data14, data15]\n",
        "data10 = pd.concat(frames1, axis=0)\n",
        "print(data10.shape)"
      ],
      "metadata": {
        "colab": {
          "base_uri": "https://localhost:8080/"
        },
        "id": "KESZqCru9sSV",
        "outputId": "3d41cf90-cdaf-4095-fd40-eeb98c0a4029"
      },
      "execution_count": null,
      "outputs": [
        {
          "output_type": "stream",
          "name": "stdout",
          "text": [
            "(72176, 81)\n"
          ]
        }
      ]
    },
    {
      "cell_type": "code",
      "source": [
        "data10.to_excel('/content/drive/MyDrive/Ph.D/MD4_LF.xlsx', index=False)"
      ],
      "metadata": {
        "id": "nxbj7yJ7oe_T"
      },
      "execution_count": null,
      "outputs": []
    },
    {
      "cell_type": "code",
      "source": [
        "data16 = pd.read_excel(r'/content/drive/MyDrive/Ph.D/MD4_LF.xlsx', header=0)"
      ],
      "metadata": {
        "id": "duMVIk2qpeDh"
      },
      "execution_count": null,
      "outputs": []
    },
    {
      "cell_type": "code",
      "source": [
        "data16=data16.iloc[:,:-1]\n",
        "data16.shape"
      ],
      "metadata": {
        "id": "WRY3G_UXRXRp",
        "colab": {
          "base_uri": "https://localhost:8080/"
        },
        "outputId": "74edc9cf-cba7-41ea-90f4-41c2d75507ea"
      },
      "execution_count": null,
      "outputs": [
        {
          "output_type": "execute_result",
          "data": {
            "text/plain": [
              "(72176, 80)"
            ]
          },
          "metadata": {},
          "execution_count": 29
        }
      ]
    },
    {
      "cell_type": "code",
      "source": [
        "doc_em"
      ],
      "metadata": {
        "id": "9O6-gz5XaEyJ"
      },
      "execution_count": null,
      "outputs": []
    },
    {
      "cell_type": "code",
      "metadata": {
        "id": "bymPlfRRJFEA",
        "colab": {
          "base_uri": "https://localhost:8080/"
        },
        "outputId": "b1c1612c-67ca-47f2-b871-1fa33b80fe59"
      },
      "source": [
        "frames = [data16, doc_em]\n",
        "data2 = pd.concat(frames, axis=1)\n",
        "print(data2.shape)\n",
        "print(y.shape)"
      ],
      "execution_count": null,
      "outputs": [
        {
          "output_type": "stream",
          "name": "stdout",
          "text": [
            "(72176, 180)\n",
            "(72176,)\n"
          ]
        }
      ]
    },
    {
      "cell_type": "code",
      "source": [
        "data2=data2.values\n",
        "print(data2)"
      ],
      "metadata": {
        "id": "auG3NgoyX1ax",
        "colab": {
          "base_uri": "https://localhost:8080/"
        },
        "outputId": "c1b9a749-967d-4ef7-c8bb-8147c0a59071"
      },
      "execution_count": null,
      "outputs": [
        {
          "output_type": "stream",
          "name": "stdout",
          "text": [
            "[[ 3.59000000e+02  3.77268280e-02  4.60331791e-01 ...  4.62728795e-01\n",
            "   8.40850322e-01 -9.20835167e-02]\n",
            " [ 1.09000000e+02  1.32359307e-01  3.36038961e-01 ...  3.34409905e-01\n",
            "   7.03075999e-01 -1.40980034e-01]\n",
            " [ 9.40000000e+01  1.46587879e-01  4.40000866e-01 ...  6.29877807e-01\n",
            "   6.95078370e-01 -2.74884216e-01]\n",
            " ...\n",
            " [ 3.40000000e+02  1.12539683e-01  4.66388889e-01 ... -4.62819170e-02\n",
            "   7.00511503e-01 -1.25794881e-02]\n",
            " [ 8.60000000e+01 -1.94264069e-02  2.09632035e-01 ...  1.13662787e-01\n",
            "   5.39154262e-01  2.06284169e-01]\n",
            " [ 3.93000000e+02  7.74866912e-02  4.49642711e-01 ...  7.83737979e-02\n",
            "   4.49005698e-01  2.02540096e-01]]\n"
          ]
        }
      ]
    },
    {
      "cell_type": "code",
      "metadata": {
        "id": "srMRpmJ_JHy6"
      },
      "source": [
        "# Splitting the dataset into the Training set and Test set\n",
        "from sklearn.model_selection import train_test_split\n",
        "features_train, features_test, labels_train, labels_test = train_test_split(data2, y, test_size = 0.20, random_state = 0)"
      ],
      "execution_count": null,
      "outputs": []
    },
    {
      "cell_type": "code",
      "metadata": {
        "id": "UO94L2VgJLdR"
      },
      "source": [
        "from sklearn.preprocessing import StandardScaler, OneHotEncoder\n",
        "sc = StandardScaler()\n",
        "features_train = sc.fit_transform(features_train)\n",
        "features_test = sc.transform(features_test)"
      ],
      "execution_count": null,
      "outputs": []
    },
    {
      "cell_type": "code",
      "source": [
        "print(features_train)\n",
        "print(len(features_train[0]))\n",
        "print(labels_train)"
      ],
      "metadata": {
        "id": "pZ4La9hjX_ls",
        "colab": {
          "base_uri": "https://localhost:8080/"
        },
        "outputId": "d721e05a-138a-463d-9de4-60b9b5d5de86"
      },
      "execution_count": null,
      "outputs": [
        {
          "output_type": "stream",
          "name": "stdout",
          "text": [
            "[[-0.231156    0.20144435 -0.42229976 ... -2.31688778 -0.14145073\n",
            "   0.12682389]\n",
            " [ 0.07766529 -0.12619475 -0.25814658 ...  0.19518183  0.8984152\n",
            "  -0.11292195]\n",
            " [-0.20828035  0.4839272   0.38524999 ...  1.15589054  0.07884851\n",
            "  -0.40026544]\n",
            " ...\n",
            " [-0.07483905 -1.10294414 -1.31635474 ... -0.40273446 -1.26808285\n",
            "  -1.13037334]\n",
            " [-0.33409643 -1.01693861  0.10625223 ... -0.05126895  0.80546621\n",
            "  -0.89416636]\n",
            " [ 0.69149527  1.00252744  0.65029413 ... -0.11846189 -0.11176776\n",
            "   0.47683357]]\n",
            "180\n",
            "[0 0 1 ... 0 0 0]\n"
          ]
        }
      ]
    },
    {
      "cell_type": "code",
      "source": [
        "features_train.shape"
      ],
      "metadata": {
        "colab": {
          "base_uri": "https://localhost:8080/"
        },
        "id": "Y02TLhQXugSe",
        "outputId": "2a8a510d-228c-499a-bcec-f55a44f30161"
      },
      "execution_count": null,
      "outputs": [
        {
          "output_type": "execute_result",
          "data": {
            "text/plain": [
              "(57740, 180)"
            ]
          },
          "metadata": {},
          "execution_count": 35
        }
      ]
    },
    {
      "cell_type": "code",
      "source": [
        "import tensorflow as tf\n",
        "print(\"TensorFlow version:\", tf.__version__)"
      ],
      "metadata": {
        "id": "G4ygnV0YgKXa",
        "colab": {
          "base_uri": "https://localhost:8080/"
        },
        "outputId": "dd8671a4-827e-4a8d-bb03-12d6e014f57c"
      },
      "execution_count": null,
      "outputs": [
        {
          "output_type": "stream",
          "name": "stdout",
          "text": [
            "TensorFlow version: 2.15.0\n"
          ]
        }
      ]
    },
    {
      "cell_type": "code",
      "source": [
        "print(features_train.shape)\n",
        "print(labels_train.shape)\n",
        "\n",
        "# convert the features and labels to the tensor\n",
        "features_train = tf.convert_to_tensor(features_train)\n",
        "features_train = tf.reshape(features_train, (57740, 180, 1))\n",
        "print(features_train.shape)\n",
        "print(labels_train)\n",
        "\n",
        "# convert the labels train to categorical values\n",
        "labels_train = tf.keras.utils.to_categorical(labels_train)\n",
        "print(labels_train)"
      ],
      "metadata": {
        "id": "QiA2__UViDpJ",
        "colab": {
          "base_uri": "https://localhost:8080/"
        },
        "outputId": "3f01cc40-1181-4de2-b39a-2d1722a76748"
      },
      "execution_count": null,
      "outputs": [
        {
          "output_type": "stream",
          "name": "stdout",
          "text": [
            "(57740, 180)\n",
            "(57740,)\n",
            "(57740, 180, 1)\n",
            "[0 0 1 ... 0 0 0]\n",
            "[[1. 0.]\n",
            " [1. 0.]\n",
            " [0. 1.]\n",
            " ...\n",
            " [1. 0.]\n",
            " [1. 0.]\n",
            " [1. 0.]]\n"
          ]
        }
      ]
    },
    {
      "cell_type": "code",
      "source": [
        "from tensorflow.keras import Sequential\n",
        "from tensorflow.keras.layers import Dropout\n",
        "from tensorflow.keras.layers import Conv1D, MaxPooling1D, Flatten, Dense\n",
        "\n",
        "# # Variables\n",
        "INPUT_SHAPE = (180,1)\n",
        "# print(INPUT_SHAPE)\n",
        "FILTER1_SIZE = 32\n",
        "FILTER2_SIZE = 64\n",
        "FILTER_SHAPE = 5\n",
        "POOL_SHAPE = 2\n",
        "FULLY_CONNECT_NUM = 128\n",
        "NUM_CLASSES = 2\n",
        "# Model architecture implementation\n",
        "model = Sequential()\n",
        "model.add(Conv1D(filters = FILTER1_SIZE, kernel_size = FILTER_SHAPE, activation='relu', input_shape = INPUT_SHAPE))\n",
        "model.add(MaxPooling1D(POOL_SHAPE))\n",
        "model.add(Dropout(rate=0.010))\n",
        "model.add(Conv1D(FILTER2_SIZE, FILTER_SHAPE, activation='relu'))\n",
        "model.add(MaxPooling1D(POOL_SHAPE))\n",
        "model.add(Dropout(rate=0.010))\n",
        "model.add(Conv1D(FILTER2_SIZE, FILTER_SHAPE, activation='relu'))\n",
        "model.add(MaxPooling1D(POOL_SHAPE))\n",
        "model.add(Dropout(rate=0.010))\n",
        "model.add(Flatten())\n",
        "model.add(Dense(FULLY_CONNECT_NUM, activation='relu'))\n",
        "model.add(Dense(NUM_CLASSES, activation='sigmoid'))"
      ],
      "metadata": {
        "id": "dytE6QvjgLsp"
      },
      "execution_count": null,
      "outputs": []
    },
    {
      "cell_type": "code",
      "source": [
        "model.summary()"
      ],
      "metadata": {
        "colab": {
          "base_uri": "https://localhost:8080/"
        },
        "id": "obvIUqGfKXuN",
        "outputId": "b197a95a-24f3-459f-eb1c-36abc3967bb9"
      },
      "execution_count": null,
      "outputs": [
        {
          "output_type": "stream",
          "name": "stdout",
          "text": [
            "Model: \"sequential_2\"\n",
            "_________________________________________________________________\n",
            " Layer (type)                Output Shape              Param #   \n",
            "=================================================================\n",
            " conv1d_6 (Conv1D)           (None, 176, 32)           192       \n",
            "                                                                 \n",
            " max_pooling1d_6 (MaxPoolin  (None, 88, 32)            0         \n",
            " g1D)                                                            \n",
            "                                                                 \n",
            " dropout_6 (Dropout)         (None, 88, 32)            0         \n",
            "                                                                 \n",
            " conv1d_7 (Conv1D)           (None, 84, 64)            10304     \n",
            "                                                                 \n",
            " max_pooling1d_7 (MaxPoolin  (None, 42, 64)            0         \n",
            " g1D)                                                            \n",
            "                                                                 \n",
            " dropout_7 (Dropout)         (None, 42, 64)            0         \n",
            "                                                                 \n",
            " conv1d_8 (Conv1D)           (None, 38, 64)            20544     \n",
            "                                                                 \n",
            " max_pooling1d_8 (MaxPoolin  (None, 19, 64)            0         \n",
            " g1D)                                                            \n",
            "                                                                 \n",
            " dropout_8 (Dropout)         (None, 19, 64)            0         \n",
            "                                                                 \n",
            " flatten_2 (Flatten)         (None, 1216)              0         \n",
            "                                                                 \n",
            " dense_4 (Dense)             (None, 128)               155776    \n",
            "                                                                 \n",
            " dense_5 (Dense)             (None, 2)                 258       \n",
            "                                                                 \n",
            "=================================================================\n",
            "Total params: 187074 (730.76 KB)\n",
            "Trainable params: 187074 (730.76 KB)\n",
            "Non-trainable params: 0 (0.00 Byte)\n",
            "_________________________________________________________________\n"
          ]
        }
      ]
    },
    {
      "cell_type": "code",
      "source": [
        " model.compile(optimizer='adam',\n",
        "                loss=tf.keras.losses.BinaryCrossentropy(),#from_logits=True\n",
        "                metrics=['accuracy'])"
      ],
      "metadata": {
        "id": "UvEKOv0PBxbg"
      },
      "execution_count": null,
      "outputs": []
    },
    {
      "cell_type": "code",
      "source": [
        "history = model.fit(features_train, labels_train, validation_split=0.2, epochs=10, batch_size=50)"
      ],
      "metadata": {
        "colab": {
          "base_uri": "https://localhost:8080/"
        },
        "id": "gO1AkiWRCmdy",
        "outputId": "1d537e19-0f22-4a1b-ace6-5690421ef04e"
      },
      "execution_count": null,
      "outputs": [
        {
          "output_type": "stream",
          "name": "stdout",
          "text": [
            "Epoch 1/10\n",
            "924/924 [==============================] - 35s 38ms/step - loss: 0.0548 - accuracy: 0.9795 - val_loss: 0.0846 - val_accuracy: 0.9690\n",
            "Epoch 2/10\n",
            "924/924 [==============================] - 32s 35ms/step - loss: 0.0410 - accuracy: 0.9850 - val_loss: 0.0954 - val_accuracy: 0.9693\n",
            "Epoch 3/10\n",
            "924/924 [==============================] - 31s 33ms/step - loss: 0.0390 - accuracy: 0.9851 - val_loss: 0.0915 - val_accuracy: 0.9706\n",
            "Epoch 4/10\n",
            "924/924 [==============================] - 30s 33ms/step - loss: 0.0295 - accuracy: 0.9895 - val_loss: 0.0991 - val_accuracy: 0.9700\n",
            "Epoch 5/10\n",
            "924/924 [==============================] - 32s 34ms/step - loss: 0.0267 - accuracy: 0.9899 - val_loss: 0.1095 - val_accuracy: 0.9700\n",
            "Epoch 6/10\n",
            "924/924 [==============================] - 32s 34ms/step - loss: 0.0259 - accuracy: 0.9903 - val_loss: 0.1310 - val_accuracy: 0.9666\n",
            "Epoch 7/10\n",
            "924/924 [==============================] - 31s 34ms/step - loss: 0.0221 - accuracy: 0.9924 - val_loss: 0.1131 - val_accuracy: 0.9700\n",
            "Epoch 8/10\n",
            "924/924 [==============================] - 30s 33ms/step - loss: 0.0192 - accuracy: 0.9933 - val_loss: 0.1283 - val_accuracy: 0.9694\n",
            "Epoch 9/10\n",
            "924/924 [==============================] - 32s 34ms/step - loss: 0.0203 - accuracy: 0.9928 - val_loss: 0.1095 - val_accuracy: 0.9716\n",
            "Epoch 10/10\n",
            "924/924 [==============================] - 31s 34ms/step - loss: 0.0163 - accuracy: 0.9942 - val_loss: 0.1011 - val_accuracy: 0.9734\n"
          ]
        }
      ]
    },
    {
      "cell_type": "code",
      "source": [
        "with open('/trainHistoryDict', 'wb') as file_pi:\n",
        "    pickle.dump(history.history, file_pi)"
      ],
      "metadata": {
        "id": "aLXgAmQU9Fmm"
      },
      "execution_count": null,
      "outputs": []
    },
    {
      "cell_type": "code",
      "source": [
        "with open('/trainHistoryDict', \"rb\") as file_pi:\n",
        "    history = pickle.load(file_pi)"
      ],
      "metadata": {
        "id": "xWRF2_qe9Glq"
      },
      "execution_count": null,
      "outputs": []
    },
    {
      "cell_type": "code",
      "source": [
        "# summarize history for accuracy\n",
        "plt.plot(history.history['accuracy'])\n",
        "plt.plot(history.history['val_accuracy'])\n",
        "plt.title('model accuracy')\n",
        "plt.ylabel('accuracy')\n",
        "plt.xlabel('epoch')\n",
        "plt.legend(['Train', 'Validation'], loc='upper left')\n",
        "plt.show()\n",
        "# summarize history for loss\n",
        "plt.plot(history.history['loss'])\n",
        "plt.plot(history.history['val_loss'])\n",
        "plt.title('model loss')\n",
        "plt.ylabel('loss')\n",
        "plt.xlabel('epoch')\n",
        "plt.legend(['Train', 'Validation'], loc='upper left')\n",
        "plt.show()"
      ],
      "metadata": {
        "colab": {
          "base_uri": "https://localhost:8080/",
          "height": 927
        },
        "id": "4xQBm5rLkHYv",
        "outputId": "5bf9453a-44bc-4745-ba8a-b2f2c5b58460"
      },
      "execution_count": null,
      "outputs": [
        {
          "output_type": "display_data",
          "data": {
            "text/plain": [
              "<Figure size 640x480 with 1 Axes>"
            ],
            "image/png": "[encoded data removed]"
          },
          "metadata": {}
        },
        {
          "output_type": "display_data",
          "data": {
            "text/plain": [
              "<Figure size 640x480 with 1 Axes>"
            ],
            "image/png": "[encoded data removed]"
          },
          "metadata": {}
        }
      ]
    },
    {
      "cell_type": "code",
      "source": [
        "features_test.shape"
      ],
      "metadata": {
        "colab": {
          "base_uri": "https://localhost:8080/"
        },
        "id": "gQTOr7aPuxUN",
        "outputId": "4c9406a7-77c3-4598-9886-4452cb0611a1"
      },
      "execution_count": null,
      "outputs": [
        {
          "output_type": "execute_result",
          "data": {
            "text/plain": [
              "TensorShape([14436, 180, 1])"
            ]
          },
          "metadata": {},
          "execution_count": 127
        }
      ]
    },
    {
      "cell_type": "code",
      "source": [
        "# use the sklearn to find the precision and recall\n",
        "# its your work to find out.\n",
        "# convert the features and labels to the tensor\n",
        "print(features_test.shape)\n",
        "features_test = tf.convert_to_tensor(features_test)\n",
        "features_test = tf.reshape(features_test, (14436, 180, 1))\n",
        "print(features_test.shape)"
      ],
      "metadata": {
        "id": "jc8Zp7NaH9oA",
        "colab": {
          "base_uri": "https://localhost:8080/"
        },
        "outputId": "950ac663-058d-458d-8785-a95d63d52cda"
      },
      "execution_count": null,
      "outputs": [
        {
          "output_type": "stream",
          "name": "stdout",
          "text": [
            "(14436, 180, 1)\n",
            "(14436, 180, 1)\n"
          ]
        }
      ]
    },
    {
      "cell_type": "code",
      "source": [
        "y_pred = model.predict(features_test)\n",
        "y_pred = np.argmax(y_pred, axis=1)\n",
        "print(y_pred)"
      ],
      "metadata": {
        "id": "XZd804NDCkk0",
        "colab": {
          "base_uri": "https://localhost:8080/"
        },
        "outputId": "1712de35-625f-4c5d-c262-6c3b01b9e797"
      },
      "execution_count": null,
      "outputs": [
        {
          "output_type": "stream",
          "name": "stdout",
          "text": [
            "452/452 [==============================] - 3s 6ms/step\n",
            "[0 0 1 ... 0 0 1]\n"
          ]
        }
      ]
    },
    {
      "cell_type": "code",
      "metadata": {
        "id": "ng_XPCZLKM0h",
        "colab": {
          "base_uri": "https://localhost:8080/"
        },
        "outputId": "bb711d20-f721-47d9-a1b2-ac234ef9c755"
      },
      "source": [
        "from sklearn import metrics\n",
        "\n",
        "print(\" model accuracy(in %):\", metrics.accuracy_score(labels_test,y_pred) * 100)\n",
        "\n",
        "#from sklearn.metrics import confusion_matrix\n",
        "#cm = confusion_matrix(y_test,predictions_test1)\n",
        "#print(cm)\n",
        "from sklearn.metrics import classification_report\n",
        "print(classification_report(labels_test,y_pred))"
      ],
      "execution_count": null,
      "outputs": [
        {
          "output_type": "stream",
          "name": "stdout",
          "text": [
            " model accuracy(in %): 97.41618176780271\n",
            "              precision    recall  f1-score   support\n",
            "\n",
            "           0       0.97      0.98      0.97      7020\n",
            "           1       0.98      0.97      0.97      7416\n",
            "\n",
            "    accuracy                           0.97     14436\n",
            "   macro avg       0.97      0.97      0.97     14436\n",
            "weighted avg       0.97      0.97      0.97     14436\n",
            "\n"
          ]
        }
      ]
    },
    {
      "cell_type": "code",
      "source": [
        "from sklearn.metrics import roc_curve, auc\n",
        "import matplotlib.pyplot as plt\n",
        "\n",
        "fpr, tpr, thresholds = roc_curve(labels_test, y_pred)\n",
        "roc_auc = auc(fpr, tpr)\n",
        "\n",
        "plt.figure()\n",
        "plt.plot(fpr, tpr, color='darkorange', lw=2, label='ROC curve (area = %0.2f)' % roc_auc)\n",
        "plt.plot([0, 1], [0, 1], color='navy', lw=2, linestyle='--')\n",
        "plt.xlim([0.0, 1.0])\n",
        "plt.ylim([0.0, 1.05])\n",
        "plt.xlabel('False Positive Rate')\n",
        "plt.ylabel('True Positive Rate')\n",
        "plt.title('Receiver Operating Characteristic (ROC) Curve')\n",
        "plt.legend(loc=\"lower right\")\n",
        "plt.show()\n"
      ],
      "metadata": {
        "colab": {
          "base_uri": "https://localhost:8080/",
          "height": 472
        },
        "id": "NDAyOlP57D-i",
        "outputId": "e1107eb4-5714-4f22-da48-991743956192"
      },
      "execution_count": null,
      "outputs": [
        {
          "output_type": "display_data",
          "data": {
            "text/plain": [
              "<Figure size 640x480 with 1 Axes>"
            ],
            "image/png": "[encoded data removed]"
          },
          "metadata": {}
        }
      ]
    },
    {
      "cell_type": "code",
      "source": [
        "plt.figure(figsize=(10,8))\n",
        "sns.heatmap(confusion_matrix(labels_test,y_pred), annot=True, fmt='d')"
      ],
      "metadata": {
        "id": "xMtbSa2Cw789"
      },
      "execution_count": null,
      "outputs": []
    }
  ]
}